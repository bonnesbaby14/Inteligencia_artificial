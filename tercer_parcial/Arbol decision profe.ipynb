{
 "cells": [
  {
   "cell_type": "code",
   "execution_count": 12,
   "metadata": {},
   "outputs": [
    {
     "name": "stdout",
     "output_type": "stream",
     "text": [
      "entriopia= 0.5238824662870492\n",
      "entriopia= 1.040269586874936\n",
      "entriopia= 1.5566567074628228\n"
     ]
    }
   ],
   "source": [
    "import math\n",
    "import pandas as pd\n",
    "\n",
    "df=pd.read_csv(\"datos.csv\")\n",
    "# print(df.info())\n",
    "\n",
    "\n",
    "tam=df.shape\n",
    "# print(tam)\n",
    "\n",
    "renglones=df.shape[0]\n",
    "columnas=df.shape[1]\n",
    "\n",
    "\n",
    "# print(df[\"nota\"].value_counts())\n",
    "# print(\"\\n\")\n",
    "# df.info()\n",
    "\n",
    "\n",
    "def calcular_entriopia(df, renglones):\n",
    "    entriopia=0\n",
    "    clases=df[\"nota\"].value_counts().keys().tolist()\n",
    "    # print(clases)\n",
    "    for i in range(0,len(clases)):\n",
    "        probabilidad_clase=df.iloc[:,-1].value_counts().tolist()[i]/renglones\n",
    "        # print(probabilidad_clase)\n",
    "        entriopia=entriopia-probabilidad_clase*math.log(probabilidad_clase,2)\n",
    "        print(\"entriopia=\",entriopia)\n",
    "        \n",
    "    return entriopia\n",
    "\n",
    "entriopia=calcular_entriopia(df,renglones)\n",
    "\n",
    "\n",
    "\n",
    "\n",
    "def entriopia_clases(df):\n",
    "    ganancias=[]\n",
    "    for i in range(0,columnas-1):\n",
    "        nombre_atributo=df.columns[i]\n",
    "        clases_atributos=df[nombre_atributo].value_counts()\n",
    "        ganancia=entriopia\n",
    "        \n",
    "        for j in range(0,len(clases_atributos)):\n",
    "            clase_actual=clases_atributos.keys().tolist()[j]\n",
    "            subdata=df[df[nombre_atributo]==clase_actual]\n",
    "            \n",
    "            subdata_entriopia=calcular_entriopia(subdata,subdata.shape[0])\n",
    "            \n",
    "\n",
    "\n",
    "for i in range(0,columnas-1):\n",
    "    nombre_atributo=df.columns\n",
    "    \n",
    "\n"
   ]
  }
 ],
 "metadata": {
  "kernelspec": {
   "display_name": "Python 3.9.13 ('ceti')",
   "language": "python",
   "name": "python3"
  },
  "language_info": {
   "codemirror_mode": {
    "name": "ipython",
    "version": 3
   },
   "file_extension": ".py",
   "mimetype": "text/x-python",
   "name": "python",
   "nbconvert_exporter": "python",
   "pygments_lexer": "ipython3",
   "version": "3.9.13"
  },
  "orig_nbformat": 4,
  "vscode": {
   "interpreter": {
    "hash": "2531742f0e8e0a60b0ae9a79fa85c6ce21ba9aa6a340d232e05a132977e28018"
   }
  }
 },
 "nbformat": 4,
 "nbformat_minor": 2
}
