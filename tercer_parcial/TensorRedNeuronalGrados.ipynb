{
 "cells": [
  {
   "cell_type": "code",
   "execution_count": 1,
   "metadata": {},
   "outputs": [
    {
     "name": "stderr",
     "output_type": "stream",
     "text": [
      "2022-10-26 23:05:10.050841: I tensorflow/core/platform/cpu_feature_guard.cc:193] This TensorFlow binary is optimized with oneAPI Deep Neural Network Library (oneDNN) to use the following CPU instructions in performance-critical operations:  AVX2 FMA\n",
      "To enable them in other operations, rebuild TensorFlow with the appropriate compiler flags.\n",
      "2022-10-26 23:05:10.249586: W tensorflow/stream_executor/platform/default/dso_loader.cc:64] Could not load dynamic library 'libcudart.so.11.0'; dlerror: libcudart.so.11.0: cannot open shared object file: No such file or directory\n",
      "2022-10-26 23:05:10.249618: I tensorflow/stream_executor/cuda/cudart_stub.cc:29] Ignore above cudart dlerror if you do not have a GPU set up on your machine.\n",
      "2022-10-26 23:05:10.280206: E tensorflow/stream_executor/cuda/cuda_blas.cc:2981] Unable to register cuBLAS factory: Attempting to register factory for plugin cuBLAS when one has already been registered\n",
      "2022-10-26 23:05:11.193084: W tensorflow/stream_executor/platform/default/dso_loader.cc:64] Could not load dynamic library 'libnvinfer.so.7'; dlerror: libnvinfer.so.7: cannot open shared object file: No such file or directory\n",
      "2022-10-26 23:05:11.193157: W tensorflow/stream_executor/platform/default/dso_loader.cc:64] Could not load dynamic library 'libnvinfer_plugin.so.7'; dlerror: libnvinfer_plugin.so.7: cannot open shared object file: No such file or directory\n",
      "2022-10-26 23:05:11.193165: W tensorflow/compiler/tf2tensorrt/utils/py_utils.cc:38] TF-TRT Warning: Cannot dlopen some TensorRT libraries. If you would like to use Nvidia GPU with TensorRT, please make sure the missing libraries mentioned above are installed properly.\n",
      "2022-10-26 23:05:12.095592: W tensorflow/stream_executor/platform/default/dso_loader.cc:64] Could not load dynamic library 'libcuda.so.1'; dlerror: libcuda.so.1: cannot open shared object file: No such file or directory\n",
      "2022-10-26 23:05:12.095614: W tensorflow/stream_executor/cuda/cuda_driver.cc:263] failed call to cuInit: UNKNOWN ERROR (303)\n",
      "2022-10-26 23:05:12.095632: I tensorflow/stream_executor/cuda/cuda_diagnostics.cc:156] kernel driver does not appear to be running on this host (Bonnesbaby14): /proc/driver/nvidia/version does not exist\n",
      "2022-10-26 23:05:12.095850: I tensorflow/core/platform/cpu_feature_guard.cc:193] This TensorFlow binary is optimized with oneAPI Deep Neural Network Library (oneDNN) to use the following CPU instructions in performance-critical operations:  AVX2 FMA\n",
      "To enable them in other operations, rebuild TensorFlow with the appropriate compiler flags.\n"
     ]
    },
    {
     "name": "stdout",
     "output_type": "stream",
     "text": [
      "Comenzando entrenamiento...\n",
      "Modelo entrenado!\n",
      "Hagamos una predicción!\n",
      "1/1 [==============================] - 0s 100ms/step\n",
      "El resultado es [[211.74744]] fahrenheit!\n",
      "Variables internas del modelo\n",
      "[array([[-0.1940113 ,  0.1904024 , -0.10843743,  0.03857805, -0.09704353,\n",
      "        -0.08847371, -0.06654657, -0.4271576 ,  0.4703078 ,  0.25516018]],\n",
      "      dtype=float32), array([ 2.3462424 ,  2.8062818 , -1.9194142 ,  0.08374661, -0.3658553 ,\n",
      "        1.4495561 ,  1.8348712 , -2.9466426 ,  2.828837  ,  2.704073  ],\n",
      "      dtype=float32)]\n",
      "[array([[-0.10752469,  0.03593994, -0.07686   ,  0.21401864, -0.77155   ,\n",
      "        -0.1537299 , -0.6658183 ,  0.54748064,  0.5884123 , -0.50531423],\n",
      "       [-0.34511748,  0.3636614 , -0.5298453 ,  0.27981338, -0.36446226,\n",
      "        -0.17891265,  0.658651  , -0.40674177,  0.78906107, -0.6849295 ],\n",
      "       [ 0.5199731 , -0.65351987,  0.7078689 ,  0.1409605 , -0.09483594,\n",
      "        -0.565329  ,  0.24941684,  0.01405095, -0.07870017,  0.34055468],\n",
      "       [-0.48426777, -0.31782615, -0.2821505 , -0.088126  ,  0.6053404 ,\n",
      "         0.1349623 ,  0.90355986, -1.176766  , -0.4279413 , -0.05455343],\n",
      "       [-0.17655377,  0.06316228,  0.33782485, -0.15517981,  0.03732947,\n",
      "         0.00510371, -0.11535946,  0.545445  ,  0.15194882, -0.51970285],\n",
      "       [-0.19597253, -0.2989567 , -0.57009727,  0.40129402,  0.21771841,\n",
      "        -0.15806428,  1.0155901 , -0.7873004 ,  0.21518268,  0.42970303],\n",
      "       [-0.14151014, -0.04102008, -0.48711538,  0.36499488, -0.27469292,\n",
      "         0.35068318, -0.5463261 ,  0.45448327,  0.41918507,  0.12194184],\n",
      "       [ 0.77637404, -0.20714487,  0.29665816, -0.64583856,  0.18967547,\n",
      "         0.15117615,  0.15921015, -0.01479741, -0.69618815, -0.15780474],\n",
      "       [-0.15906394,  0.50113535, -0.7372685 ,  0.7830216 , -0.09845125,\n",
      "        -0.3874823 , -0.2344827 ,  0.26180193,  0.9016363 , -0.46066716],\n",
      "       [-0.72893834, -0.05782814,  0.13221379,  0.8373984 , -0.5671713 ,\n",
      "         0.41326153,  0.28382903,  0.3123323 ,  0.34373316, -0.2337275 ]],\n",
      "      dtype=float32), array([-2.804458  ,  2.0470815 , -2.7984815 ,  2.5097113 , -1.1281468 ,\n",
      "       -2.3953156 ,  0.86480725, -0.4100304 ,  2.8336341 , -2.1346996 ],\n",
      "      dtype=float32)]\n",
      "[array([[-0.7690594 ],\n",
      "       [ 0.1325453 ],\n",
      "       [-0.38427433],\n",
      "       [ 0.5131977 ],\n",
      "       [-0.08293174],\n",
      "       [-0.16231567],\n",
      "       [-0.05109281],\n",
      "       [-0.05251394],\n",
      "       [ 0.6434061 ],\n",
      "       [-0.25607845]], dtype=float32), array([2.7592165], dtype=float32)]\n"
     ]
    },
    {
     "data": {
      "image/png": "[encoded data removed]",
      "text/plain": [
       "<Figure size 432x288 with 1 Axes>"
      ]
     },
     "metadata": {
      "needs_background": "light"
     },
     "output_type": "display_data"
    }
   ],
   "source": [
    "import tensorflow as tf\n",
    "\n",
    "import numpy as np\n",
    "\n",
    "celsius = np.array([-40, -10, 0, 8, 15, 22, 38], dtype=float)\n",
    "\n",
    "fahrenheit = np.array([-40, 14, 32, 46, 59, 72, 100], dtype=float)\n",
    "\n",
    "#capa = tf.keras.layers.Dense(units=1, input_shape=[1])\n",
    "\n",
    "#modelo = tf.keras.Sequential([capa])\n",
    "\n",
    "oculta1 = tf.keras.layers.Dense(units=10, input_shape=[1])\n",
    "\n",
    "oculta2 = tf.keras.layers.Dense(units=10)\n",
    "\n",
    "salida = tf.keras.layers.Dense(units=1)\n",
    "\n",
    "modelo = tf.keras.Sequential([oculta1, oculta2, salida])\n",
    "\n",
    "modelo.compile(\n",
    "\n",
    "optimizer=tf.keras.optimizers.Adam(0.1),\n",
    "\n",
    "loss='mean_squared_error')\n",
    "\n",
    "print(\"Comenzando entrenamiento...\")\n",
    "\n",
    "historial = modelo.fit(celsius, fahrenheit, epochs=1000,\n",
    "verbose=False)\n",
    "\n",
    "print(\"Modelo entrenado!\")\n",
    "\n",
    "import matplotlib.pyplot as plt\n",
    "\n",
    "plt.xlabel(\"# Epoca\")\n",
    "\n",
    "plt.ylabel(\"Magnitud de pérdida\")\n",
    "\n",
    "plt.plot(historial.history[\"loss\"])\n",
    "\n",
    "print(\"Hagamos una predicción!\")\n",
    "\n",
    "resultado = modelo.predict([100.0])\n",
    "\n",
    "print(\"El resultado es \" + str(resultado) + \" fahrenheit!\")\n",
    "\n",
    "print(\"Variables internas del modelo\")\n",
    "\n",
    "#print(capa.get_weights())\n",
    "\n",
    "print(oculta1.get_weights())\n",
    "\n",
    "print(oculta2.get_weights())\n",
    "\n",
    "print(salida.get_weights())"
   ]
  }
 ],
 "metadata": {
  "kernelspec": {
   "display_name": "Python 3.9.12 ('ceti')",
   "language": "python",
   "name": "python3"
  },
  "language_info": {
   "codemirror_mode": {
    "name": "ipython",
    "version": 3
   },
   "file_extension": ".py",
   "mimetype": "text/x-python",
   "name": "python",
   "nbconvert_exporter": "python",
   "pygments_lexer": "ipython3",
   "version": "3.9.12"
  },
  "orig_nbformat": 4,
  "vscode": {
   "interpreter": {
    "hash": "2531742f0e8e0a60b0ae9a79fa85c6ce21ba9aa6a340d232e05a132977e28018"
   }
  }
 },
 "nbformat": 4,
 "nbformat_minor": 2
}
