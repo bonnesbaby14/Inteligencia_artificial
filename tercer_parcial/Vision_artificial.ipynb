{
 "cells": [
  {
   "cell_type": "code",
   "execution_count": 1,
   "metadata": {},
   "outputs": [
    {
     "name": "stderr",
     "output_type": "stream",
     "text": [
      "qt.qpa.plugin: Could not find the Qt platform plugin \"wayland\" in \"/home/bonnesbaby14/anaconda3/envs/ceti/lib/python3.9/site-packages/cv2/qt/plugins\"\n"
     ]
    },
    {
     "ename": "",
     "evalue": "",
     "output_type": "error",
     "traceback": [
      "\u001b[1;31mEl Kernel se bloqueó al ejecutar código en la celda actual o en una celda anterior. Revise el código de las celdas para identificar una posible causa del error. Haga clic <a href='https://aka.ms/vscodeJupyterKernelCrash'>aquí</a> para obtener más información. Vea el [registro] de Jupyter (command:jupyter.viewOutput) para obtener más detalles."
     ]
    }
   ],
   "source": [
    "# -*- coding: utf-8 -*-\n",
    "\n",
    "\n",
    "import cv2\n",
    "\n",
    "# abrir la cámara\n",
    "cap = cv2.VideoCapture(0)\n",
    "\n",
    "# establecer dimensiones\n",
    "cap.set(cv2.CAP_PROP_FRAME_WIDTH,2560) # ancho\n",
    "cap.set(cv2.CAP_PROP_FRAME_HEIGHT,1440) # alto\n",
    "\n",
    "# Tomar una imagen\n",
    "ret, frame = cap.read()\n",
    "# Guardamos la imagen en un archivo\n",
    "cv2.imwrite('/home/bonnesbaby14/Escritorio/CETI/INTELIGENCIA ARTIFICIAL/tercer_parcial/foto.jpg',frame)\n",
    "#Liberamos la cámara\n",
    "cap.release()\n",
    "\n",
    "cv2.imshow('Imagen',frame)"
   ]
  },
  {
   "cell_type": "code",
   "execution_count": 2,
   "metadata": {},
   "outputs": [
    {
     "ename": "ModuleNotFoundError",
     "evalue": "No module named 'torch'",
     "output_type": "error",
     "traceback": [
      "\u001b[0;31m---------------------------------------------------------------------------\u001b[0m",
      "\u001b[0;31mModuleNotFoundError\u001b[0m                       Traceback (most recent call last)",
      "Cell \u001b[0;32mIn [2], line 4\u001b[0m\n\u001b[1;32m      2\u001b[0m \u001b[39mimport\u001b[39;00m \u001b[39mcv2\u001b[39;00m\n\u001b[1;32m      3\u001b[0m \u001b[39mimport\u001b[39;00m \u001b[39mmatplotlib\u001b[39;00m\u001b[39m.\u001b[39;00m\u001b[39mpyplot\u001b[39;00m \u001b[39mas\u001b[39;00m \u001b[39mplt\u001b[39;00m\n\u001b[0;32m----> 4\u001b[0m \u001b[39mimport\u001b[39;00m \u001b[39mtorch\u001b[39;00m\n\u001b[1;32m      5\u001b[0m \u001b[39mfrom\u001b[39;00m \u001b[39mfacenet_pytorch\u001b[39;00m \u001b[39mimport\u001b[39;00m MTCNN\n\u001b[1;32m      6\u001b[0m \u001b[39mimport\u001b[39;00m \u001b[39mnumpy\u001b[39;00m \u001b[39mas\u001b[39;00m \u001b[39mnp\u001b[39;00m\n",
      "\u001b[0;31mModuleNotFoundError\u001b[0m: No module named 'torch'"
     ]
    }
   ],
   "source": [
    "from PIL import Image\n",
    "import cv2\n",
    "import matplotlib.pyplot as plt\n",
    "import torch\n",
    "from facenet_pytorch import MTCNN\n",
    "import numpy as np\n",
    "\n",
    "# Detectar si se dispone de GPU cuda\n",
    "# ==============================================================================\n",
    "device = torch.device('cuda:0' if torch.cuda.is_available() else 'cpu')\n",
    "print('Running on device: {}'.format(device))\n",
    "\n",
    "# Detector MTCNN\n",
    "# ==============================================================================\n",
    "mtcnn = MTCNN(\n",
    "            select_largest = True,\n",
    "            min_face_size  = 20,\n",
    "            thresholds     = [0.6, 0.7, 0.7],\n",
    "            post_process   = False,\n",
    "            image_size     = 160,\n",
    "            device         = device\n",
    "        )\n",
    "\n",
    "imagen_1 = Image.open('gera.png')\n",
    "#imagen_2 = Image.open('images/imagen_2.png')\n",
    "\n",
    "# imagen_1 = cv2.imread('images/imagen_1.jpg')\n",
    "# imagen_2 = cv2.imread('images/imagen_2.png')\n",
    "\n",
    "boxes, probs, landmarks = mtcnn.detect(imagen_1, landmarks=True)\n",
    "print('Bounding boxes:', boxes)\n",
    "print('Probability:', probs)\n",
    "print('landmarks:', landmarks)\n",
    "\n",
    "# Representación con matplotlib\n",
    "# ==============================================================================\n",
    "# En punto de origen (0,0) de una imagen es la esquina superior izquierda\n",
    "box = boxes[0]\n",
    "landmark = landmarks[0]\n",
    "fig, ax  = plt.subplots(figsize=(5, 4))\n",
    "ax.imshow(imagen_1)\n",
    "ax.scatter(landmark[:, 0], landmark[:, 1], s=8, c= 'cyan')\n",
    "rect = plt.Rectangle(\n",
    "            xy     = (box[0], box[1]),\n",
    "            width  = box[2] - box[0],\n",
    "            height = box[3] - box[1],\n",
    "            fill   = False,\n",
    "            color  = 'cyan'\n",
    "       )\n",
    "ax.add_patch(rect)\n",
    "ax.axis('off');"
   ]
  }
 ],
 "metadata": {
  "kernelspec": {
   "display_name": "Python 3.9.13 ('ceti')",
   "language": "python",
   "name": "python3"
  },
  "language_info": {
   "codemirror_mode": {
    "name": "ipython",
    "version": 3
   },
   "file_extension": ".py",
   "mimetype": "text/x-python",
   "name": "python",
   "nbconvert_exporter": "python",
   "pygments_lexer": "ipython3",
   "version": "3.9.13"
  },
  "orig_nbformat": 4,
  "vscode": {
   "interpreter": {
    "hash": "2531742f0e8e0a60b0ae9a79fa85c6ce21ba9aa6a340d232e05a132977e28018"
   }
  }
 },
 "nbformat": 4,
 "nbformat_minor": 2
}
